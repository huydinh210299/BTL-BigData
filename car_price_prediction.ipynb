{
 "cells": [
  {
   "cell_type": "markdown",
   "metadata": {},
   "source": [
    "## Khai báo thư viện, khởi tạo spark session"
   ]
  },
  {
   "cell_type": "code",
   "execution_count": 1,
   "metadata": {},
   "outputs": [],
   "source": [
    "import pandas as pd\n",
    "import numpy as np\n",
    "from pyspark.sql import SparkSession\n",
    "sparkSession = SparkSession.builder.appName(\"bigdata-car-price-prediction\").getOrCreate()"
   ]
  },
  {
   "cell_type": "markdown",
   "metadata": {},
   "source": [
    "## Đọc dữ liệu từ hdfs"
   ]
  },
  {
   "cell_type": "code",
   "execution_count": 2,
   "metadata": {},
   "outputs": [],
   "source": [
    "df = sparkSession.read.csv('hdfs://172.17.0.2:9000/user/root/bigdata/oto2.csv', header=True)"
   ]
  },
  {
   "cell_type": "code",
   "execution_count": 3,
   "metadata": {
    "scrolled": true
   },
   "outputs": [
    {
     "name": "stdout",
     "output_type": "stream",
     "text": [
      "root\n",
      " |-- Hãng: string (nullable = true)\n",
      " |-- Dòng: string (nullable = true)\n",
      " |-- Tên xe: string (nullable = true)\n",
      " |-- Thời gian: string (nullable = true)\n",
      " |-- Giá xe: string (nullable = true)\n",
      " |-- Xuất xứ: string (nullable = true)\n",
      " |-- Tình trạng: string (nullable = true)\n",
      " |-- Dòng xe: string (nullable = true)\n",
      " |-- Số Km đã đi: string (nullable = true)\n",
      " |-- Màu ngoại thất: string (nullable = true)\n",
      " |-- Màu nội thất: string (nullable = true)\n",
      " |-- Số cửa: string (nullable = true)\n",
      " |-- Động cơ: string (nullable = true)\n",
      " |-- Hộp số: string (nullable = true)\n",
      " |-- Dẫn động: string (nullable = true)\n",
      " |-- Số chỗ ngồi: string (nullable = true)\n",
      " |-- Hệ thống nạp nhiên liệu: string (nullable = true)\n",
      " |-- Tiêu thụ nhiên liệu: string (nullable = true)\n",
      "\n"
     ]
    }
   ],
   "source": [
    "df.printSchema()"
   ]
  },
  {
   "cell_type": "markdown",
   "metadata": {},
   "source": [
    "### Vì các thuộc tính numeric của dữ liệu bị chuyển thành dạng string khi lấy dữ liệu bằng spark read csv nên cần chuyển đổi lại kiểu dữ liệu"
   ]
  },
  {
   "cell_type": "code",
   "execution_count": 4,
   "metadata": {},
   "outputs": [
    {
     "name": "stdout",
     "output_type": "stream",
     "text": [
      "root\n",
      " |-- Hãng: string (nullable = true)\n",
      " |-- Dòng: string (nullable = true)\n",
      " |-- Tên xe: string (nullable = true)\n",
      " |-- Thời gian: integer (nullable = true)\n",
      " |-- Giá xe: string (nullable = true)\n",
      " |-- Xuất xứ: string (nullable = true)\n",
      " |-- Tình trạng: string (nullable = true)\n",
      " |-- Dòng xe: string (nullable = true)\n",
      " |-- Số Km đã đi: string (nullable = true)\n",
      " |-- Màu ngoại thất: string (nullable = true)\n",
      " |-- Màu nội thất: string (nullable = true)\n",
      " |-- Số cửa: integer (nullable = true)\n",
      " |-- Động cơ: string (nullable = true)\n",
      " |-- Hộp số: string (nullable = true)\n",
      " |-- Dẫn động: string (nullable = true)\n",
      " |-- Số chỗ ngồi: integer (nullable = true)\n",
      " |-- Hệ thống nạp nhiên liệu: string (nullable = true)\n",
      " |-- Tiêu thụ nhiên liệu: string (nullable = true)\n",
      "\n"
     ]
    }
   ],
   "source": [
    "df = df.withColumn('Thời gian', df['Thời gian'].cast('int'))\n",
    "df = df.withColumn('Số cửa', df['Số cửa'].cast('int'))\n",
    "df = df.withColumn('Số chỗ ngồi', df['Số chỗ ngồi'].cast('int'))\n",
    "df.printSchema()"
   ]
  },
  {
   "cell_type": "code",
   "execution_count": 5,
   "metadata": {
    "scrolled": true
   },
   "outputs": [],
   "source": [
    "df = df.toPandas()\n"
   ]
  },
  {
   "cell_type": "code",
   "execution_count": 26,
   "metadata": {},
   "outputs": [
    {
     "data": {
      "text/plain": [
       "(28194, 18)"
      ]
     },
     "execution_count": 26,
     "metadata": {},
     "output_type": "execute_result"
    }
   ],
   "source": [
    "df.shape"
   ]
  },
  {
   "cell_type": "code",
   "execution_count": 6,
   "metadata": {
    "scrolled": true
   },
   "outputs": [
    {
     "name": "stdout",
     "output_type": "stream",
     "text": [
      "<class 'pandas.core.frame.DataFrame'>\n",
      "RangeIndex: 28680 entries, 0 to 28679\n",
      "Data columns (total 18 columns):\n",
      " #   Column                   Non-Null Count  Dtype  \n",
      "---  ------                   --------------  -----  \n",
      " 0   Hãng                     28680 non-null  object \n",
      " 1   Dòng                     28680 non-null  object \n",
      " 2   Tên xe                   28115 non-null  object \n",
      " 3   Thời gian                28587 non-null  float64\n",
      " 4   Giá xe                   28680 non-null  object \n",
      " 5   Xuất xứ                  28680 non-null  object \n",
      " 6   Tình trạng               28680 non-null  object \n",
      " 7   Dòng xe                  28680 non-null  object \n",
      " 8   Số Km đã đi              28680 non-null  object \n",
      " 9   Màu ngoại thất           28680 non-null  object \n",
      " 10  Màu nội thất             28680 non-null  object \n",
      " 11  Số cửa                   28680 non-null  int32  \n",
      " 12  Động cơ                  27608 non-null  object \n",
      " 13  Hộp số                   28680 non-null  object \n",
      " 14  Dẫn động                 28680 non-null  object \n",
      " 15  Số chỗ ngồi              28680 non-null  int32  \n",
      " 16  Hệ thống nạp nhiên liệu  7655 non-null   object \n",
      " 17  Tiêu thụ nhiên liệu      28680 non-null  object \n",
      "dtypes: float64(1), int32(2), object(15)\n",
      "memory usage: 3.7+ MB\n"
     ]
    }
   ],
   "source": [
    "df.info()"
   ]
  },
  {
   "cell_type": "code",
   "execution_count": 7,
   "metadata": {
    "colab": {
     "base_uri": "https://localhost:8080/"
    },
    "id": "SsTSG6mOBTHp",
    "outputId": "8c6679aa-7ad4-4571-8e60-88065c77f89f",
    "scrolled": true
   },
   "outputs": [],
   "source": [
    "\n",
    "feature = [\"Dòng\", \"Thời gian\", \"Xuất xứ\", \"Tình trạng\", \"Màu ngoại thất\", \"Màu nội thất\", \"Số cửa\", \"Hộp số\", \"Số chỗ ngồi\"]"
   ]
  },
  {
   "cell_type": "markdown",
   "metadata": {
    "id": "1HikTZUF-HfL"
   },
   "source": [
    "# Phân tích dữ liệu\n"
   ]
  },
  {
   "cell_type": "markdown",
   "metadata": {
    "id": "-g5qyuP1Ks_2"
   },
   "source": [
    "## Mô tả dữ liệu theo từng đặc trưng\n"
   ]
  },
  {
   "cell_type": "code",
   "execution_count": 8,
   "metadata": {
    "colab": {
     "base_uri": "https://localhost:8080/"
    },
    "id": "shLlt66XJ_3y",
    "outputId": "34627925-3300-4a5c-d862-0ef6b35b5148"
   },
   "outputs": [
    {
     "name": "stdout",
     "output_type": "stream",
     "text": [
      "<class 'pandas.core.frame.DataFrame'>\n",
      "RangeIndex: 28680 entries, 0 to 28679\n",
      "Data columns (total 9 columns):\n",
      " #   Column          Non-Null Count  Dtype  \n",
      "---  ------          --------------  -----  \n",
      " 0   Dòng            28680 non-null  object \n",
      " 1   Thời gian       28587 non-null  float64\n",
      " 2   Xuất xứ         28680 non-null  object \n",
      " 3   Tình trạng      28680 non-null  object \n",
      " 4   Màu ngoại thất  28680 non-null  object \n",
      " 5   Màu nội thất    28680 non-null  object \n",
      " 6   Số cửa          28680 non-null  int32  \n",
      " 7   Hộp số          28680 non-null  object \n",
      " 8   Số chỗ ngồi     28680 non-null  int32  \n",
      "dtypes: float64(1), int32(2), object(6)\n",
      "memory usage: 1.8+ MB\n",
      "count       28680\n",
      "unique        448\n",
      "top       Morning\n",
      "freq         1405\n",
      "Name: Dòng, dtype: object\n",
      "--------------------\n",
      "count    28587.000000\n",
      "mean      2015.407913\n",
      "std          5.487340\n",
      "min       1990.000000\n",
      "25%       2012.000000\n",
      "50%       2018.000000\n",
      "75%       2020.000000\n",
      "max       2021.000000\n",
      "Name: Thời gian, dtype: float64\n",
      "--------------------\n",
      "count                  28680\n",
      "unique                     2\n",
      "top       Lắp ráp trong nước\n",
      "freq                   17606\n",
      "Name: Xuất xứ, dtype: object\n",
      "--------------------\n",
      "count          28680\n",
      "unique             2\n",
      "top       Xe đã dùng\n",
      "freq           18226\n",
      "Name: Tình trạng, dtype: object\n",
      "--------------------\n",
      "count     28680\n",
      "unique       17\n",
      "top       Trắng\n",
      "freq       8509\n",
      "Name: Màu ngoại thất, dtype: object\n",
      "--------------------\n",
      "count     28680\n",
      "unique       18\n",
      "top         Đen\n",
      "freq       9694\n",
      "Name: Màu nội thất, dtype: object\n",
      "--------------------\n",
      "count    28680.000000\n",
      "mean         4.418863\n",
      "std          0.875515\n",
      "min          1.000000\n",
      "25%          4.000000\n",
      "50%          5.000000\n",
      "75%          5.000000\n",
      "max         54.000000\n",
      "Name: Số cửa, dtype: float64\n",
      "--------------------\n",
      "count          28680\n",
      "unique             3\n",
      "top       Số tự động\n",
      "freq           19477\n",
      "Name: Hộp số, dtype: object\n",
      "--------------------\n",
      "count    28680.000000\n",
      "mean         5.768898\n",
      "std          2.798075\n",
      "min          1.000000\n",
      "25%          5.000000\n",
      "50%          5.000000\n",
      "75%          7.000000\n",
      "max         71.000000\n",
      "Name: Số chỗ ngồi, dtype: float64\n",
      "--------------------\n"
     ]
    }
   ],
   "source": [
    "df[feature].info()\n",
    "for i in feature:\n",
    "  print(df[i].describe())\n",
    "  print(\"--------------------\")"
   ]
  },
  {
   "cell_type": "markdown",
   "metadata": {
    "id": "CxbCWxof-doF"
   },
   "source": [
    "## Top 10 dòng xe được bán nhiều nhất"
   ]
  },
  {
   "cell_type": "code",
   "execution_count": 9,
   "metadata": {
    "colab": {
     "base_uri": "https://localhost:8080/",
     "height": 345
    },
    "id": "OZ5E8CxN-8sC",
    "outputId": "fe13efae-3965-42c2-e271-4c65b5716dba",
    "scrolled": true
   },
   "outputs": [
    {
     "data": {
      "text/html": [
       "<div>\n",
       "<style scoped>\n",
       "    .dataframe tbody tr th:only-of-type {\n",
       "        vertical-align: middle;\n",
       "    }\n",
       "\n",
       "    .dataframe tbody tr th {\n",
       "        vertical-align: top;\n",
       "    }\n",
       "\n",
       "    .dataframe thead th {\n",
       "        text-align: right;\n",
       "    }\n",
       "</style>\n",
       "<table border=\"1\" class=\"dataframe\">\n",
       "  <thead>\n",
       "    <tr style=\"text-align: right;\">\n",
       "      <th></th>\n",
       "      <th>Dòng</th>\n",
       "      <th>Số lượng</th>\n",
       "    </tr>\n",
       "  </thead>\n",
       "  <tbody>\n",
       "    <tr>\n",
       "      <th>136</th>\n",
       "      <td>Everest</td>\n",
       "      <td>545</td>\n",
       "    </tr>\n",
       "    <tr>\n",
       "      <th>72</th>\n",
       "      <td>C class</td>\n",
       "      <td>582</td>\n",
       "    </tr>\n",
       "    <tr>\n",
       "      <th>13</th>\n",
       "      <td>3</td>\n",
       "      <td>629</td>\n",
       "    </tr>\n",
       "    <tr>\n",
       "      <th>81</th>\n",
       "      <td>Camry</td>\n",
       "      <td>644</td>\n",
       "    </tr>\n",
       "    <tr>\n",
       "      <th>159</th>\n",
       "      <td>Fortuner</td>\n",
       "      <td>644</td>\n",
       "    </tr>\n",
       "    <tr>\n",
       "      <th>443</th>\n",
       "      <td>i10</td>\n",
       "      <td>918</td>\n",
       "    </tr>\n",
       "    <tr>\n",
       "      <th>208</th>\n",
       "      <td>Innova</td>\n",
       "      <td>1016</td>\n",
       "    </tr>\n",
       "    <tr>\n",
       "      <th>325</th>\n",
       "      <td>Ranger</td>\n",
       "      <td>1143</td>\n",
       "    </tr>\n",
       "    <tr>\n",
       "      <th>406</th>\n",
       "      <td>Vios</td>\n",
       "      <td>1150</td>\n",
       "    </tr>\n",
       "    <tr>\n",
       "      <th>259</th>\n",
       "      <td>Morning</td>\n",
       "      <td>1405</td>\n",
       "    </tr>\n",
       "  </tbody>\n",
       "</table>\n",
       "</div>"
      ],
      "text/plain": [
       "         Dòng  Số lượng\n",
       "136   Everest       545\n",
       "72    C class       582\n",
       "13          3       629\n",
       "81      Camry       644\n",
       "159  Fortuner       644\n",
       "443       i10       918\n",
       "208    Innova      1016\n",
       "325    Ranger      1143\n",
       "406      Vios      1150\n",
       "259   Morning      1405"
      ]
     },
     "execution_count": 9,
     "metadata": {},
     "output_type": "execute_result"
    }
   ],
   "source": [
    "df_1 = df.groupby('Dòng')['Xuất xứ'].count().reset_index()\n",
    "df_1 = df_1.sort_values(by=['Xuất xứ'])\n",
    "df_1 = df_1.rename(columns = {'Xuất xứ':'Số lượng'})\n",
    "\n",
    "df_1[-10:]"
   ]
  },
  {
   "cell_type": "code",
   "execution_count": 10,
   "metadata": {
    "colab": {
     "base_uri": "https://localhost:8080/",
     "height": 297
    },
    "id": "CVxIa93pEPel",
    "outputId": "86b6405f-bbde-47e5-a419-e6ddb51ceb2d",
    "scrolled": false
   },
   "outputs": [
    {
     "data": {
      "text/plain": [
       "Text(0, 0.5, 'Số lượng mỗi dòng xe')"
      ]
     },
     "execution_count": 10,
     "metadata": {},
     "output_type": "execute_result"
    },
    {
     "data": {
      "image/png": "[encoded data removed]",
      "text/plain": [
       "<Figure size 432x288 with 1 Axes>"
      ]
     },
     "metadata": {
      "needs_background": "light"
     },
     "output_type": "display_data"
    }
   ],
   "source": [
    "import matplotlib.pyplot as plt\n",
    "\n",
    "plt.bar(x = df_1['Dòng'][-10:], height = df_1['Số lượng'][-10:])\n",
    "plt.xlabel('Tên dòng xe')\n",
    "plt.ylabel('Số lượng mỗi dòng xe')"
   ]
  },
  {
   "cell_type": "markdown",
   "metadata": {
    "id": "yoQCO8H_AXAr"
   },
   "source": [
    "## Xuất xứ của xe"
   ]
  },
  {
   "cell_type": "code",
   "execution_count": 11,
   "metadata": {
    "colab": {
     "base_uri": "https://localhost:8080/",
     "height": 281
    },
    "id": "p1GDoVfKDhrT",
    "outputId": "2ffa788f-5125-4cc5-94fc-268af0e7adc3"
   },
   "outputs": [
    {
     "data": {
      "text/plain": [
       "Text(0.5, 1.0, 'Biểu đồ tròn tỷ lệ % của các nhóm')"
      ]
     },
     "execution_count": 11,
     "metadata": {},
     "output_type": "execute_result"
    },
    {
     "data": {
      "image/png": "[encoded data removed]",
      "text/plain": [
       "<Figure size 432x288 with 1 Axes>"
      ]
     },
     "metadata": {},
     "output_type": "display_data"
    }
   ],
   "source": [
    "df_2 = df.groupby('Xuất xứ')['Thời gian'].count().reset_index()\n",
    "df_2 = df_2.sort_values(by=['Thời gian'])\n",
    "\n",
    "plt.pie(x = df_2['Thời gian'], labels = df_2['Xuất xứ'],autopct = '%1.1f%%', shadow = True)\n",
    "plt.title('Biểu đồ tròn tỷ lệ % của các nhóm')\n"
   ]
  },
  {
   "cell_type": "markdown",
   "metadata": {
    "id": "n8ElFxXMKxvH"
   },
   "source": [
    "## Hộp số"
   ]
  },
  {
   "cell_type": "code",
   "execution_count": 12,
   "metadata": {
    "colab": {
     "base_uri": "https://localhost:8080/",
     "height": 281
    },
    "id": "1awp01AsK4v3",
    "outputId": "1bf69e51-26b1-4de4-a5b9-16ac893c2ef4",
    "scrolled": true
   },
   "outputs": [
    {
     "data": {
      "text/plain": [
       "Text(0.5, 1.0, 'Biểu đồ tròn tỷ lệ % của các nhóm')"
      ]
     },
     "execution_count": 12,
     "metadata": {},
     "output_type": "execute_result"
    },
    {
     "data": {
      "image/png": "[encoded data removed]",
      "text/plain": [
       "<Figure size 432x288 with 1 Axes>"
      ]
     },
     "metadata": {},
     "output_type": "display_data"
    }
   ],
   "source": [
    "df_3 = df.groupby('Hộp số')['Thời gian'].count().reset_index()\n",
    "df_3 = df_3.sort_values(by=['Thời gian'])\n",
    "\n",
    "plt.pie(x = df_3['Thời gian'], labels = df_3['Hộp số'],autopct = '%1.1f%%', shadow = True)\n",
    "plt.title('Biểu đồ tròn tỷ lệ % của các nhóm')"
   ]
  },
  {
   "cell_type": "markdown",
   "metadata": {
    "id": "3yy8oxNfL-fi"
   },
   "source": [
    "## Màu ngoại thất"
   ]
  },
  {
   "cell_type": "code",
   "execution_count": 13,
   "metadata": {
    "colab": {
     "base_uri": "https://localhost:8080/",
     "height": 299
    },
    "id": "FPhE_DCyMAk3",
    "outputId": "b9bd5019-fe52-4376-b195-fa88e3c9b1e0",
    "scrolled": false
   },
   "outputs": [
    {
     "data": {
      "text/plain": [
       "Text(0, 0.5, 'Số lượng mỗi màu')"
      ]
     },
     "execution_count": 13,
     "metadata": {},
     "output_type": "execute_result"
    },
    {
     "data": {
      "image/png": "[encoded data removed]",
      "text/plain": [
       "<Figure size 432x288 with 1 Axes>"
      ]
     },
     "metadata": {
      "needs_background": "light"
     },
     "output_type": "display_data"
    }
   ],
   "source": [
    "df_4 = df.groupby('Màu ngoại thất')['Thời gian'].count().reset_index()\n",
    "df_4 = df_4.sort_values(by=['Thời gian'])\n",
    "\n",
    "plt.bar(x = df_4['Màu ngoại thất'][5:], height = df_4['Thời gian'][5:])\n",
    "plt.xlabel('Màu ngoại thất')\n",
    "plt.ylabel('Số lượng mỗi màu')"
   ]
  },
  {
   "cell_type": "markdown",
   "metadata": {
    "id": "25A0vDdMm1HD"
   },
   "source": [
    "# Tiền Xử lý dữ liệu\n",
    "\n",
    "\n"
   ]
  },
  {
   "cell_type": "markdown",
   "metadata": {
    "id": "bhEltZzFhde1"
   },
   "source": [
    "## Đưa Giá ô tô từ String về Number\n"
   ]
  },
  {
   "cell_type": "code",
   "execution_count": 14,
   "metadata": {
    "colab": {
     "base_uri": "https://localhost:8080/"
    },
    "id": "PK_VNKN0hiGB",
    "outputId": "1bbda59b-8f1e-42ca-edde-bdac69812016"
   },
   "outputs": [
    {
     "name": "stdout",
     "output_type": "stream",
     "text": [
      "0    1 Tỷ 390 Triệu\n",
      "1         700 Triệu\n",
      "2         630 Triệu\n",
      "3         340 Triệu\n",
      "4         630 Triệu\n",
      "5         515 Triệu\n",
      "6         668 Triệu\n",
      "7         575 Triệu\n",
      "8         620 Triệu\n",
      "9    1 Tỷ 250 Triệu\n",
      "Name: Giá xe, dtype: object\n"
     ]
    },
    {
     "name": "stderr",
     "output_type": "stream",
     "text": [
      "<ipython-input-14-6b9f69ab1f4b>:20: SettingWithCopyWarning: \n",
      "A value is trying to be set on a copy of a slice from a DataFrame\n",
      "\n",
      "See the caveats in the documentation: https://pandas.pydata.org/pandas-docs/stable/user_guide/indexing.html#returning-a-view-versus-a-copy\n",
      "  df['Giá xe'][i] = stringToNumber1(df['Giá xe'][i])\n"
     ]
    },
    {
     "data": {
      "text/plain": [
       "0    1390\n",
       "1     700\n",
       "2     630\n",
       "3     340\n",
       "4     630\n",
       "5     515\n",
       "6     668\n",
       "7     575\n",
       "8     620\n",
       "9    1250\n",
       "Name: Giá xe, dtype: object"
      ]
     },
     "execution_count": 14,
     "metadata": {},
     "output_type": "execute_result"
    }
   ],
   "source": [
    "import re\n",
    "def stringToNumber1(s):\n",
    "  tmp = re.split(' ', s)\n",
    "  n = len(tmp)\n",
    "  if n == 4:\n",
    "    return 1000 * int(tmp[0]) + int(tmp[2])\n",
    "  elif n == 2:\n",
    "    if tmp[1] == 'Tỷ':\n",
    "      return 1000 * int(tmp[0])\n",
    "    elif tmp[1] == 'Triệu':\n",
    "      return int(tmp[0])\n",
    "    else:\n",
    "      return 0\n",
    "  else:\n",
    "    return 0\n",
    "\n",
    "print(df['Giá xe'][:10])\n",
    "\n",
    "for i in range(len(df)):\n",
    "  df['Giá xe'][i] = stringToNumber1(df['Giá xe'][i])\n",
    "\n",
    "df['Giá xe'][:10]\n"
   ]
  },
  {
   "cell_type": "markdown",
   "metadata": {},
   "source": [
    "## Phân tích giá xe"
   ]
  },
  {
   "cell_type": "code",
   "execution_count": 32,
   "metadata": {},
   "outputs": [
    {
     "name": "stdout",
     "output_type": "stream",
     "text": [
      "39500\n",
      "12\n"
     ]
    }
   ],
   "source": [
    "print(df['Giá xe'].max())\n",
    "print(df['Giá xe'].min())"
   ]
  },
  {
   "cell_type": "markdown",
   "metadata": {
    "id": "wjHgUxdsPp1t"
   },
   "source": [
    "## Đưa thuộc tính số Km đã đi về Number"
   ]
  },
  {
   "cell_type": "code",
   "execution_count": 15,
   "metadata": {
    "colab": {
     "base_uri": "https://localhost:8080/"
    },
    "id": "orFjdBV8PvPh",
    "outputId": "7c30457c-5891-4bb6-ca0d-2419da0b360b"
   },
   "outputs": [
    {
     "name": "stdout",
     "output_type": "stream",
     "text": [
      "count     28680\n",
      "unique     1621\n",
      "top           0\n",
      "freq      16759\n",
      "Name: Số Km đã đi, dtype: object\n"
     ]
    },
    {
     "name": "stderr",
     "output_type": "stream",
     "text": [
      "<ipython-input-15-6f164fde8f66>:11: SettingWithCopyWarning: \n",
      "A value is trying to be set on a copy of a slice from a DataFrame\n",
      "\n",
      "See the caveats in the documentation: https://pandas.pydata.org/pandas-docs/stable/user_guide/indexing.html#returning-a-view-versus-a-copy\n",
      "  df['Số Km đã đi'][i] = stringToNumber2(df['Số Km đã đi'][i])\n"
     ]
    },
    {
     "name": "stdout",
     "output_type": "stream",
     "text": [
      "count     28680.0\n",
      "unique     1621.0\n",
      "top           0.0\n",
      "freq      16759.0\n",
      "Name: Số Km đã đi, dtype: float64\n"
     ]
    }
   ],
   "source": [
    "def stringToNumber2(s):\n",
    "  tmp = re.findall('\\d+', s)\n",
    "  s1 = ''\n",
    "  for i in tmp:\n",
    "    s1 = s1 + i;\n",
    "  return float(s1)\n",
    "\n",
    "print(df['Số Km đã đi'].describe())\n",
    "\n",
    "for i in range(len(df)):\n",
    "  df['Số Km đã đi'][i] = stringToNumber2(df['Số Km đã đi'][i])\n",
    "\n",
    "print(df['Số Km đã đi'].describe())"
   ]
  },
  {
   "cell_type": "markdown",
   "metadata": {
    "id": "DbfHPJfaCBpK"
   },
   "source": [
    "##  Lọc nhiễu\n",
    "### Một số dòng xe chỉ có một vài mẫu cần loại bỏ để tránh gây nhiễu"
   ]
  },
  {
   "cell_type": "code",
   "execution_count": 16,
   "metadata": {
    "colab": {
     "base_uri": "https://localhost:8080/"
    },
    "id": "SOT8WKKJ8h0i",
    "outputId": "2899cc17-ff89-491a-b898-f8bbc0cbb831"
   },
   "outputs": [
    {
     "name": "stdout",
     "output_type": "stream",
     "text": [
      "(448, 2)\n",
      "           Dòng  Số lượng\n",
      "447        khác         1\n",
      "368      Tacoma         1\n",
      "369          Tc         1\n",
      "189    Grandeur         1\n",
      "372      Tercel         1\n",
      "..          ...       ...\n",
      "179     GentraX         6\n",
      "432   XJ series         6\n",
      "146         FVR         6\n",
      "17         300C         6\n",
      "15   300 Series         6\n",
      "\n",
      "[200 rows x 2 columns]\n",
      "(28194, 18)\n"
     ]
    },
    {
     "data": {
      "text/plain": [
       "count       28194\n",
       "unique        248\n",
       "top       Morning\n",
       "freq         1405\n",
       "Name: Dòng, dtype: object"
      ]
     },
     "execution_count": 16,
     "metadata": {},
     "output_type": "execute_result"
    }
   ],
   "source": [
    "print(df_1.shape)\n",
    "print(df_1[:200])\n",
    "\n",
    "for tmp in df_1['Dòng'][:200]:\n",
    "  df = df.drop(df[df['Dòng'] == tmp].index)\n",
    "\n",
    "print(df.shape)\n",
    "\n",
    "df['Dòng'].describe()"
   ]
  },
  {
   "cell_type": "markdown",
   "metadata": {
    "id": "lcMDFfvRkVP8"
   },
   "source": [
    "## Xử lý missing data\n",
    "Nhận thấy trường 'Thời gian' có giá trị null cần phải xử lý. Phương pháp sẽ là thay các giá trị null bằng giá trị trung bình."
   ]
  },
  {
   "cell_type": "code",
   "execution_count": 17,
   "metadata": {
    "colab": {
     "base_uri": "https://localhost:8080/"
    },
    "id": "tYBxPZEhkcIg",
    "outputId": "f27b7efa-f871-48c9-e1fe-700d984fa6e1"
   },
   "outputs": [
    {
     "name": "stdout",
     "output_type": "stream",
     "text": [
      "<class 'pandas.core.frame.DataFrame'>\n",
      "Int64Index: 28194 entries, 0 to 28678\n",
      "Data columns (total 9 columns):\n",
      " #   Column          Non-Null Count  Dtype  \n",
      "---  ------          --------------  -----  \n",
      " 0   Dòng            28194 non-null  object \n",
      " 1   Thời gian       28113 non-null  float64\n",
      " 2   Xuất xứ         28194 non-null  object \n",
      " 3   Tình trạng      28194 non-null  object \n",
      " 4   Màu ngoại thất  28194 non-null  object \n",
      " 5   Màu nội thất    28194 non-null  object \n",
      " 6   Số cửa          28194 non-null  int32  \n",
      " 7   Hộp số          28194 non-null  object \n",
      " 8   Số chỗ ngồi     28194 non-null  int32  \n",
      "dtypes: float64(1), int32(2), object(6)\n",
      "memory usage: 1.9+ MB\n",
      "---------------------------------\n",
      "<class 'pandas.core.frame.DataFrame'>\n",
      "Int64Index: 28194 entries, 0 to 28678\n",
      "Data columns (total 9 columns):\n",
      " #   Column          Non-Null Count  Dtype  \n",
      "---  ------          --------------  -----  \n",
      " 0   Dòng            28194 non-null  object \n",
      " 1   Thời gian       28194 non-null  float64\n",
      " 2   Xuất xứ         28194 non-null  object \n",
      " 3   Tình trạng      28194 non-null  object \n",
      " 4   Màu ngoại thất  28194 non-null  object \n",
      " 5   Màu nội thất    28194 non-null  object \n",
      " 6   Số cửa          28194 non-null  int32  \n",
      " 7   Hộp số          28194 non-null  object \n",
      " 8   Số chỗ ngồi     28194 non-null  int32  \n",
      "dtypes: float64(1), int32(2), object(6)\n",
      "memory usage: 1.9+ MB\n",
      "---------------------------------\n",
      "count    28194.000000\n",
      "mean      2015.491807\n",
      "std          5.404664\n",
      "min       1990.000000\n",
      "25%       2013.000000\n",
      "50%       2018.000000\n",
      "75%       2020.000000\n",
      "max       2021.000000\n",
      "Name: Thời gian, dtype: float64\n",
      "---------------------------------\n",
      "count    28194.000000\n",
      "mean        35.491807\n",
      "std          5.404664\n",
      "min         10.000000\n",
      "25%         33.000000\n",
      "50%         38.000000\n",
      "75%         40.000000\n",
      "max         41.000000\n",
      "Name: Thời gian, dtype: float64\n"
     ]
    },
    {
     "name": "stderr",
     "output_type": "stream",
     "text": [
      "<ipython-input-17-c08e72915a0c>:10: SettingWithCopyWarning: \n",
      "A value is trying to be set on a copy of a slice from a DataFrame.\n",
      "Try using .loc[row_indexer,col_indexer] = value instead\n",
      "\n",
      "See the caveats in the documentation: https://pandas.pydata.org/pandas-docs/stable/user_guide/indexing.html#returning-a-view-versus-a-copy\n",
      "  data_x['Thời gian'] = data_x['Thời gian'].fillna(int(tb))\n",
      "<ipython-input-17-c08e72915a0c>:18: SettingWithCopyWarning: \n",
      "A value is trying to be set on a copy of a slice from a DataFrame.\n",
      "Try using .loc[row_indexer,col_indexer] = value instead\n",
      "\n",
      "See the caveats in the documentation: https://pandas.pydata.org/pandas-docs/stable/user_guide/indexing.html#returning-a-view-versus-a-copy\n",
      "  data_x['Thời gian'] -= 1980\n"
     ]
    }
   ],
   "source": [
    "data_x = df[feature]\n",
    "data_y = df['Giá xe']\n",
    "\n",
    "data_x.info()\n",
    "print('---------------------------------')\n",
    "\n",
    "\n",
    "tb = data_x['Thời gian'].mean()\n",
    "\n",
    "data_x['Thời gian'] = data_x['Thời gian'].fillna(int(tb))\n",
    "\n",
    "data_x.info()\n",
    "print('---------------------------------')\n",
    "\n",
    "print(data_x['Thời gian'].describe())\n",
    "print('---------------------------------')\n",
    "\n",
    "data_x['Thời gian'] -= 1980\n",
    "print(data_x['Thời gian'].describe())"
   ]
  },
  {
   "cell_type": "code",
   "execution_count": 18,
   "metadata": {
    "colab": {
     "base_uri": "https://localhost:8080/"
    },
    "id": "5PLxQBH2e4oK",
    "outputId": "73c643b8-26c0-45b7-bb4d-ef4c083fe123"
   },
   "outputs": [
    {
     "data": {
      "text/plain": [
       "Index(['Dòng', 'Thời gian', 'Xuất xứ', 'Tình trạng', 'Màu ngoại thất',\n",
       "       'Màu nội thất', 'Số cửa', 'Hộp số', 'Số chỗ ngồi'],\n",
       "      dtype='object')"
      ]
     },
     "execution_count": 18,
     "metadata": {},
     "output_type": "execute_result"
    }
   ],
   "source": [
    "data_x.shape\n",
    "data_x.columns"
   ]
  },
  {
   "cell_type": "markdown",
   "metadata": {
    "id": "0SspN8RUsKfT"
   },
   "source": [
    "## Mã hóa các trường có giá trị rời rạc về dạng one-hot-vector\n"
   ]
  },
  {
   "cell_type": "code",
   "execution_count": 19,
   "metadata": {
    "colab": {
     "base_uri": "https://localhost:8080/"
    },
    "id": "WCDb2NfRsTwP",
    "outputId": "201ef5dc-8cce-4573-ecc3-145224ccfd7e"
   },
   "outputs": [
    {
     "name": "stdout",
     "output_type": "stream",
     "text": [
      "(28194, 299)\n"
     ]
    },
    {
     "data": {
      "text/plain": [
       "Index(['Thời gian', 'Số cửa', 'Số chỗ ngồi', 'Dòng_1 Series', 'Dòng_2',\n",
       "       'Dòng_2 Series', 'Dòng_208', 'Dòng_3', 'Dòng_3 Series', 'Dòng_3008',\n",
       "       ...\n",
       "       'Màu nội thất_Xanh', 'Màu nội thất_Xám', 'Màu nội thất_Đen',\n",
       "       'Màu nội thất_Đỏ', 'Màu nội thất_Đồng', 'Màu nội thất_nan',\n",
       "       'Hộp số_Số hỗn hợp', 'Hộp số_Số tay', 'Hộp số_Số tự động',\n",
       "       'Hộp số_nan'],\n",
       "      dtype='object', length=299)"
      ]
     },
     "execution_count": 19,
     "metadata": {},
     "output_type": "execute_result"
    }
   ],
   "source": [
    "data_x = pd.get_dummies(data_x, dummy_na=True)\n",
    "print(data_x.shape)\n",
    "data_x.columns\n"
   ]
  },
  {
   "cell_type": "markdown",
   "metadata": {
    "id": "eHiUFTv8ELHy"
   },
   "source": [
    "## Chuẩn hóa dữ liệu\n",
    "Chuẩn hóa các đặc trưng số học về Mean Normalization"
   ]
  },
  {
   "cell_type": "code",
   "execution_count": 20,
   "metadata": {
    "colab": {
     "base_uri": "https://localhost:8080/"
    },
    "id": "hHtlvmecD-RI",
    "outputId": "45b42084-02a3-451f-d3bd-672b3fa49667"
   },
   "outputs": [
    {
     "name": "stdout",
     "output_type": "stream",
     "text": [
      "count    28194.000000\n",
      "mean         0.822316\n",
      "std          0.174344\n",
      "min          0.000000\n",
      "25%          0.741935\n",
      "50%          0.903226\n",
      "75%          0.967742\n",
      "max          1.000000\n",
      "Name: Thời gian, dtype: float64\n",
      "count    28194.000000\n",
      "mean         0.064686\n",
      "std          0.016328\n",
      "min          0.000000\n",
      "25%          0.056604\n",
      "50%          0.075472\n",
      "75%          0.075472\n",
      "max          1.000000\n",
      "Name: Số cửa, dtype: float64\n",
      "count    28194.000000\n",
      "mean         0.068306\n",
      "std          0.039828\n",
      "min          0.000000\n",
      "25%          0.057143\n",
      "50%          0.057143\n",
      "75%          0.085714\n",
      "max          1.000000\n",
      "Name: Số chỗ ngồi, dtype: float64\n"
     ]
    }
   ],
   "source": [
    "numeric_features = ['Thời gian','Số cửa', 'Số chỗ ngồi']\n",
    "\n",
    "x_min = data_x[numeric_features].min() \n",
    "x_max = data_x[numeric_features].max()  \n",
    "\n",
    "data_x[numeric_features] = (data_x[numeric_features] - x_min)/(x_max - x_min)\n",
    "\n",
    "for i in numeric_features:\n",
    "  print(data_x[i].describe())"
   ]
  },
  {
   "cell_type": "code",
   "execution_count": null,
   "metadata": {},
   "outputs": [],
   "source": []
  },
  {
   "cell_type": "markdown",
   "metadata": {
    "id": "aUq7iPaRtXd0"
   },
   "source": [
    "## Chia dữ liệu thành 2 tập train và test"
   ]
  },
  {
   "cell_type": "code",
   "execution_count": 21,
   "metadata": {
    "colab": {
     "base_uri": "https://localhost:8080/"
    },
    "id": "S_aKhmI7tbxM",
    "outputId": "4c2c24da-47f7-4add-be61-6fdeeaca49ec"
   },
   "outputs": [
    {
     "name": "stdout",
     "output_type": "stream",
     "text": [
      "(22555, 299)\n",
      "(5639, 299)\n",
      "(22555,)\n",
      "(5639,)\n"
     ]
    }
   ],
   "source": [
    "from sklearn.model_selection import train_test_split\n",
    "\n",
    "train_x, test_x, train_y, test_y = train_test_split(data_x, data_y, test_size = 0.2, random_state = 41)\n",
    "\n",
    "print(train_x.shape)\n",
    "print(test_x.shape)\n",
    "print(train_y.shape)\n",
    "print(test_y.shape)      "
   ]
  },
  {
   "cell_type": "markdown",
   "metadata": {
    "id": "TlmA2Gc0uQmn"
   },
   "source": [
    "# Huấn luyện "
   ]
  },
  {
   "cell_type": "markdown",
   "metadata": {
    "id": "trEWVzkcvRwD"
   },
   "source": [
    "## Đưa dữ liệu về dạng ma trận để áp dụng mô hình Linear Regression"
   ]
  },
  {
   "cell_type": "code",
   "execution_count": 22,
   "metadata": {
    "colab": {
     "base_uri": "https://localhost:8080/"
    },
    "id": "-6JpV-Vjva2L",
    "outputId": "6536474b-c5f4-44f0-9a77-880a7b895edb",
    "scrolled": true
   },
   "outputs": [
    {
     "name": "stdout",
     "output_type": "stream",
     "text": [
      "(22555, 300)\n",
      "(5639, 300)\n",
      "(22555,)\n"
     ]
    }
   ],
   "source": [
    "import numpy as np \n",
    "\n",
    "n1 = len(train_x)\n",
    "one1 = np.ones((n1,1))\n",
    "X1 = np.array(train_x)\n",
    "Xbar_train = np.hstack((one1, X1))\n",
    "\n",
    "n2 = len(test_x)\n",
    "one2 = np.ones((n2,1))\n",
    "X2 = np.array(test_x)\n",
    "Xbar_test = np.hstack((one2, X2))\n",
    "y_train = np.array(train_y).T\n",
    "\n",
    "print(Xbar_train.shape)\n",
    "print(Xbar_test.shape)\n",
    "print(y_train.shape)"
   ]
  },
  {
   "cell_type": "markdown",
   "metadata": {
    "id": "PNnYUFtUxE0g"
   },
   "source": [
    "## Tính trọng số W*"
   ]
  },
  {
   "cell_type": "code",
   "execution_count": 23,
   "metadata": {
    "colab": {
     "base_uri": "https://localhost:8080/"
    },
    "id": "Zzci5st4xLq3",
    "outputId": "88f1cd6e-57fa-4784-9c8e-f3b588cb7a5a",
    "scrolled": true
   },
   "outputs": [
    {
     "data": {
      "text/plain": [
       "(300, 1)"
      ]
     },
     "execution_count": 23,
     "metadata": {},
     "output_type": "execute_result"
    }
   ],
   "source": [
    "d = train_x.shape[1]+1\n",
    "\n",
    "A = np.dot(Xbar_train.T, Xbar_train)\n",
    "b = np.dot(Xbar_train.T, train_y)\n",
    "w = np.dot(np.linalg.pinv(A), b).reshape((d, 1))\n",
    "\n",
    "w.shape"
   ]
  },
  {
   "cell_type": "markdown",
   "metadata": {
    "id": "ylhQ8N2S2-rc"
   },
   "source": [
    "## Áp dụng dự đoán với tập test và đánh giá kết quả\n",
    "Kết quả tương đối tốt với trung bình lỗi khoảng 15%"
   ]
  },
  {
   "cell_type": "code",
   "execution_count": 24,
   "metadata": {
    "id": "u81wO5K73F9y"
   },
   "outputs": [],
   "source": [
    "pred_y = np.abs(np.dot(Xbar_test, w).reshape(n2))\n",
    "test_y = np.array(test_y).reshape(n2)\n",
    "\n",
    "df2 = pd.DataFrame()\n",
    "df2['Giá xe'] = test_y\n",
    "df2['Giá dự đoán'] = pred_y\n",
    "df2['error'] = np.abs(test_y - pred_y)/\n",
    "df2['error_percent'] = np.abs(test_y - pred_y)/test_y\n",
    "\n",
    "df2.to_csv(\"~/Downloads/car_price_prediction.csv\")"
   ]
  },
  {
   "cell_type": "code",
   "execution_count": 25,
   "metadata": {
    "colab": {
     "base_uri": "https://localhost:8080/"
    },
    "id": "20g4gAgv6wV9",
    "outputId": "13b7997a-ebeb-4ebb-a74c-61cf2f4083f4"
   },
   "outputs": [
    {
     "name": "stdout",
     "output_type": "stream",
     "text": [
      "76.64115080365416\n",
      "0.14703978924956118\n"
     ]
    }
   ],
   "source": [
    "print(df2['error'].mean())\n",
    "print(df2['error_percent'].mean())"
   ]
  }
 ],
 "metadata": {
  "colab": {
   "collapsed_sections": [],
   "name": "car_price_prediction.ipynb",
   "provenance": [],
   "toc_visible": true
  },
  "kernelspec": {
   "display_name": "Python 3",
   "language": "python",
   "name": "python3"
  },
  "language_info": {
   "codemirror_mode": {
    "name": "ipython",
    "version": 3
   },
   "file_extension": ".py",
   "mimetype": "text/x-python",
   "name": "python",
   "nbconvert_exporter": "python",
   "pygments_lexer": "ipython3",
   "version": "3.8.5"
  }
 },
 "nbformat": 4,
 "nbformat_minor": 1
}
